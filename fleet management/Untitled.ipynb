{
 "cells": [
  {
   "cell_type": "code",
   "execution_count": 94,
   "id": "f4f624a3",
   "metadata": {},
   "outputs": [],
   "source": [
    "row_line_color_list = []\n",
    "row_line_color_list_temp = [(255, 255, 255), (255, 255, 255)]\n",
    "row_line_color_list.append(row_line_color_list_temp)\n",
    "row_line_color_list_temp = []\n",
    "for i in range(4):\n",
    "    row_line_color_list_temp = [(255, 255, 255), (255, 255, 255), (255, 255, 255), (255, 255, 255)]\n",
    "    row_line_color_list.append(row_line_color_list_temp)\n",
    "\n",
    "col_line_color_list = [(255, 255, 255), (255, 255, 255), (255, 255, 255), (255, 255, 255)]"
   ]
  },
  {
   "cell_type": "code",
   "execution_count": 95,
   "id": "ace4afee",
   "metadata": {},
   "outputs": [],
   "source": [
    "path = [(0, 0), (0, 1), (0, 2), (1, 2), (2, 2), (3, 2), (4, 2), (5, 2), (6, 2), (6, 3), (6, 4)]"
   ]
  },
  {
   "cell_type": "code",
   "execution_count": 96,
   "id": "d457253e",
   "metadata": {},
   "outputs": [
    {
     "name": "stdout",
     "output_type": "stream",
     "text": [
      "x가 변화하였습니다.\n",
      "x가 변화하였습니다.\n",
      "y가 변화하였습니다.\n",
      "y가 변화하였습니다.\n",
      "y가 변화하였습니다.\n",
      "x가 변화하였습니다.\n",
      "x가 변화하였습니다.\n"
     ]
    }
   ],
   "source": [
    "pre_path = (0,0)\n",
    "for now_path in path:\n",
    "    if pre_path[1] != now_path[1]:\n",
    "        print(\"x가 변화하였습니다.\")\n",
    "        if pre_path[1] > now_path[1]:\n",
    "            row_line_color_list[int(now_path[0]/2)][pre_path[1]-1] = (255, 0, 0)\n",
    "        elif pre_path[1] < now_path[1]:\n",
    "            row_line_color_list[int(now_path[0]/2)][pre_path[1]] = (255, 0, 0)\n",
    "    elif pre_path[0] != now_path[0] and now_path[0] % 2 == 0: \n",
    "        print(\"y가 변화하였습니다.\")\n",
    "        col_line_color_list[int(now_path[0]/2)-1] = (255, 0, 0)\n",
    "    pre_path = now_path"
   ]
  },
  {
   "cell_type": "code",
   "execution_count": 97,
   "id": "5296c5b5",
   "metadata": {},
   "outputs": [
    {
     "data": {
      "text/plain": [
       "[[(255, 0, 0), (255, 0, 0)],\n",
       " [(255, 255, 255), (255, 255, 255), (255, 255, 255), (255, 255, 255)],\n",
       " [(255, 255, 255), (255, 255, 255), (255, 255, 255), (255, 255, 255)],\n",
       " [(255, 255, 255), (255, 255, 255), (255, 0, 0), (255, 0, 0)],\n",
       " [(255, 255, 255), (255, 255, 255), (255, 255, 255), (255, 255, 255)]]"
      ]
     },
     "execution_count": 97,
     "metadata": {},
     "output_type": "execute_result"
    }
   ],
   "source": [
    "row_line_color_list"
   ]
  },
  {
   "cell_type": "code",
   "execution_count": 98,
   "id": "dd61fa1a",
   "metadata": {},
   "outputs": [
    {
     "data": {
      "text/plain": [
       "[(255, 0, 0), (255, 0, 0), (255, 0, 0), (255, 255, 255)]"
      ]
     },
     "execution_count": 98,
     "metadata": {},
     "output_type": "execute_result"
    }
   ],
   "source": [
    "col_line_color_list"
   ]
  },
  {
   "cell_type": "code",
   "execution_count": 99,
   "id": "f39f634e",
   "metadata": {},
   "outputs": [],
   "source": [
    "row_line_color_list = []\n",
    "row_line_color_list_temp = [(255, 255, 255), (255, 255, 255)]\n",
    "row_line_color_list.append(row_line_color_list_temp)\n",
    "row_line_color_list_temp = []\n",
    "for i in range(4):\n",
    "    row_line_color_list_temp = [(255, 255, 255), (255, 255, 255), (255, 255, 255), (255, 255, 255)]\n",
    "    row_line_color_list.append(row_line_color_list_temp)\n",
    "\n",
    "col_line_color_list = [(255, 255, 255), (255, 255, 255), (255, 255, 255), (255, 255, 255)]"
   ]
  },
  {
   "cell_type": "code",
   "execution_count": 100,
   "id": "4fe6dd32",
   "metadata": {},
   "outputs": [
    {
     "name": "stdout",
     "output_type": "stream",
     "text": [
      "x가 변화하였습니다.\n",
      "x가 변화하였습니다.\n",
      "y가 변화하였습니다.\n",
      "y가 변화하였습니다.\n",
      "y가 변화하였습니다.\n",
      "x가 변화하였습니다.\n",
      "x가 변화하였습니다.\n"
     ]
    }
   ],
   "source": [
    "path = [(0, 0), (0, 1), (0, 2), (1, 2), (2, 2), (3, 2), (4, 2), (5, 2), (6, 2), (6, 1), (6, 0)]\n",
    "\n",
    "pre_path = (0,0)\n",
    "for now_path in path:\n",
    "    if pre_path[1] != now_path[1]:\n",
    "        print(\"x가 변화하였습니다.\")\n",
    "        if pre_path[1] > now_path[1]:\n",
    "            row_line_color_list[int(now_path[0]/2)][pre_path[1]-1] = (255, 0, 0)\n",
    "        elif pre_path[1] < now_path[1]:\n",
    "            row_line_color_list[int(now_path[0]/2)][pre_path[1]] = (255, 0, 0)\n",
    "    elif pre_path[0] != now_path[0] and now_path[0] % 2 == 0: \n",
    "        print(\"y가 변화하였습니다.\")\n",
    "        col_line_color_list[int(now_path[0]/2)-1] = (255, 0, 0)\n",
    "    pre_path = now_path"
   ]
  },
  {
   "cell_type": "code",
   "execution_count": 101,
   "id": "8fe765b0",
   "metadata": {},
   "outputs": [
    {
     "data": {
      "text/plain": [
       "[[(255, 0, 0), (255, 0, 0)],\n",
       " [(255, 255, 255), (255, 255, 255), (255, 255, 255), (255, 255, 255)],\n",
       " [(255, 255, 255), (255, 255, 255), (255, 255, 255), (255, 255, 255)],\n",
       " [(255, 0, 0), (255, 0, 0), (255, 255, 255), (255, 255, 255)],\n",
       " [(255, 255, 255), (255, 255, 255), (255, 255, 255), (255, 255, 255)]]"
      ]
     },
     "execution_count": 101,
     "metadata": {},
     "output_type": "execute_result"
    }
   ],
   "source": [
    "row_line_color_list"
   ]
  },
  {
   "cell_type": "code",
   "execution_count": 102,
   "id": "a0cce572",
   "metadata": {},
   "outputs": [
    {
     "data": {
      "text/plain": [
       "[(255, 0, 0), (255, 0, 0), (255, 0, 0), (255, 255, 255)]"
      ]
     },
     "execution_count": 102,
     "metadata": {},
     "output_type": "execute_result"
    }
   ],
   "source": [
    "col_line_color_list"
   ]
  },
  {
   "cell_type": "code",
   "execution_count": 131,
   "id": "f789ae0d",
   "metadata": {},
   "outputs": [
    {
     "name": "stdout",
     "output_type": "stream",
     "text": [
      "x가 변화하였습니다.\n",
      "x가 변화하였습니다.\n",
      "y가 변화하였습니다.\n",
      "y가 변화하였습니다.\n",
      "x가 변화하였습니다.\n",
      "x가 변화하였습니다.\n"
     ]
    }
   ],
   "source": [
    "row_line_color_list = []\n",
    "row_line_color_list_temp = [(255, 255, 255), (255, 255, 255)]\n",
    "row_line_color_list.append(row_line_color_list_temp)\n",
    "row_line_color_list_temp = []\n",
    "for i in range(4):\n",
    "    row_line_color_list_temp = [(255, 255, 255), (255, 255, 255), (255, 255, 255), (255, 255, 255)]\n",
    "    row_line_color_list.append(row_line_color_list_temp)\n",
    "\n",
    "col_line_color_list = [(255, 255, 255), (255, 255, 255), (255, 255, 255), (255, 255, 255)]\n",
    "\n",
    "path = [(6, 4), (6, 3), (6, 2), (5, 2), (4, 2), (3, 2), (2, 2), (2, 1), (2, 0)]\n",
    "\n",
    "pre_path = path[0]\n",
    "for now_path in path:\n",
    "    if pre_path[1] != now_path[1]:\n",
    "        print(\"x가 변화하였습니다.\")\n",
    "        if pre_path[1] > now_path[1]:\n",
    "            row_line_color_list[int(now_path[0]/2)][pre_path[1]-1] = (255, 0, 0)\n",
    "        elif pre_path[1] < now_path[1]:\n",
    "            row_line_color_list[int(now_path[0]/2)][pre_path[1]] = (255, 0, 0)\n",
    "            \n",
    "    \n",
    "    elif pre_path[0] != now_path[0] and now_path[0] % 2 == 0: \n",
    "        print(\"y가 변화하였습니다.\")\n",
    "        if pre_path[0] > now_path[0]:\n",
    "            col_line_color_list[int(now_path[0]/2)] = (255, 0, 0)\n",
    "        elif pre_path[0] < now_path[0]:\n",
    "            col_line_color_list[int(now_path[0]/2)-1] = (255, 0, 0)\n",
    "    pre_path = now_path"
   ]
  },
  {
   "cell_type": "code",
   "execution_count": 132,
   "id": "9006b0a9",
   "metadata": {},
   "outputs": [
    {
     "data": {
      "text/plain": [
       "[[(255, 255, 255), (255, 255, 255)],\n",
       " [(255, 0, 0), (255, 0, 0), (255, 255, 255), (255, 255, 255)],\n",
       " [(255, 255, 255), (255, 255, 255), (255, 255, 255), (255, 255, 255)],\n",
       " [(255, 255, 255), (255, 255, 255), (255, 0, 0), (255, 0, 0)],\n",
       " [(255, 255, 255), (255, 255, 255), (255, 255, 255), (255, 255, 255)]]"
      ]
     },
     "execution_count": 132,
     "metadata": {},
     "output_type": "execute_result"
    }
   ],
   "source": [
    "row_line_color_list"
   ]
  },
  {
   "cell_type": "code",
   "execution_count": 133,
   "id": "b28ce78b",
   "metadata": {},
   "outputs": [
    {
     "data": {
      "text/plain": [
       "[(255, 255, 255), (255, 0, 0), (255, 0, 0), (255, 255, 255)]"
      ]
     },
     "execution_count": 133,
     "metadata": {},
     "output_type": "execute_result"
    }
   ],
   "source": [
    "col_line_color_list"
   ]
  },
  {
   "cell_type": "code",
   "execution_count": 134,
   "id": "767bf7ef",
   "metadata": {},
   "outputs": [
    {
     "name": "stdout",
     "output_type": "stream",
     "text": [
      "x가 변화하였습니다.\n",
      "x가 변화하였습니다.\n",
      "y가 변화하였습니다.\n",
      "y가 변화하였습니다.\n",
      "y가 변화하였습니다.\n",
      "x가 변화하였습니다.\n",
      "x가 변화하였습니다.\n"
     ]
    }
   ],
   "source": [
    "row_line_color_list = []\n",
    "row_line_color_list_temp = [(255, 255, 255), (255, 255, 255)]\n",
    "row_line_color_list.append(row_line_color_list_temp)\n",
    "row_line_color_list_temp = []\n",
    "for i in range(4):\n",
    "    row_line_color_list_temp = [(255, 255, 255), (255, 255, 255), (255, 255, 255), (255, 255, 255)]\n",
    "    row_line_color_list.append(row_line_color_list_temp)\n",
    "\n",
    "col_line_color_list = [(255, 255, 255), (255, 255, 255), (255, 255, 255), (255, 255, 255)]\n",
    "\n",
    "path = [(0, 0), (0, 1), (0, 2), (1, 2), (2, 2), (3, 2), (4, 2), (5, 2), (6, 2), (6, 3), (6, 4)]\n",
    "\n",
    "pre_path = path[0]\n",
    "for now_path in path:\n",
    "    if pre_path[1] != now_path[1]:\n",
    "        print(\"x가 변화하였습니다.\")\n",
    "        if pre_path[1] > now_path[1]:\n",
    "            row_line_color_list[int(now_path[0]/2)][pre_path[1]-1] = (255, 0, 0)\n",
    "        elif pre_path[1] < now_path[1]:\n",
    "            row_line_color_list[int(now_path[0]/2)][pre_path[1]] = (255, 0, 0)\n",
    "    elif pre_path[0] != now_path[0] and now_path[0] % 2 == 0: \n",
    "        print(\"y가 변화하였습니다.\")\n",
    "        if pre_path[0] > now_path[0]:\n",
    "            col_line_color_list[int(now_path[0]/2)] = (255, 0, 0)\n",
    "        elif pre_path[0] < now_path[0]:\n",
    "            col_line_color_list[int(now_path[0]/2)-1] = (255, 0, 0)\n",
    "    pre_path = now_path"
   ]
  },
  {
   "cell_type": "code",
   "execution_count": 135,
   "id": "cc0d3ec0",
   "metadata": {},
   "outputs": [
    {
     "data": {
      "text/plain": [
       "[[(255, 0, 0), (255, 0, 0)],\n",
       " [(255, 255, 255), (255, 255, 255), (255, 255, 255), (255, 255, 255)],\n",
       " [(255, 255, 255), (255, 255, 255), (255, 255, 255), (255, 255, 255)],\n",
       " [(255, 255, 255), (255, 255, 255), (255, 0, 0), (255, 0, 0)],\n",
       " [(255, 255, 255), (255, 255, 255), (255, 255, 255), (255, 255, 255)]]"
      ]
     },
     "execution_count": 135,
     "metadata": {},
     "output_type": "execute_result"
    }
   ],
   "source": [
    "row_line_color_list"
   ]
  },
  {
   "cell_type": "code",
   "execution_count": 136,
   "id": "c951c10f",
   "metadata": {},
   "outputs": [
    {
     "data": {
      "text/plain": [
       "[(255, 0, 0), (255, 0, 0), (255, 0, 0), (255, 255, 255)]"
      ]
     },
     "execution_count": 136,
     "metadata": {},
     "output_type": "execute_result"
    }
   ],
   "source": [
    "col_line_color_list"
   ]
  },
  {
   "cell_type": "code",
   "execution_count": 138,
   "id": "82b172c2",
   "metadata": {},
   "outputs": [
    {
     "data": {
      "text/plain": [
       "1"
      ]
     },
     "execution_count": 138,
     "metadata": {},
     "output_type": "execute_result"
    }
   ],
   "source": [
    "list_a = [1, 2]\n",
    "\n",
    "a = list_a.pop(0)\n",
    "b = list_a.pop(0)\n",
    "a"
   ]
  },
  {
   "cell_type": "code",
   "execution_count": 139,
   "id": "0f1e9120",
   "metadata": {},
   "outputs": [
    {
     "ename": "IndexError",
     "evalue": "pop from empty list",
     "output_type": "error",
     "traceback": [
      "\u001b[0;31m---------------------------------------------------------------------------\u001b[0m",
      "\u001b[0;31mIndexError\u001b[0m                                Traceback (most recent call last)",
      "\u001b[0;32m/tmp/ipykernel_35070/1177271715.py\u001b[0m in \u001b[0;36m<module>\u001b[0;34m\u001b[0m\n\u001b[0;32m----> 1\u001b[0;31m \u001b[0mlist_a\u001b[0m\u001b[0;34m.\u001b[0m\u001b[0mpop\u001b[0m\u001b[0;34m(\u001b[0m\u001b[0;36m0\u001b[0m\u001b[0;34m)\u001b[0m\u001b[0;34m\u001b[0m\u001b[0;34m\u001b[0m\u001b[0m\n\u001b[0m",
      "\u001b[0;31mIndexError\u001b[0m: pop from empty list"
     ]
    }
   ],
   "source": [
    "list_a.pop(0)"
   ]
  },
  {
   "cell_type": "code",
   "execution_count": null,
   "id": "c1525cd9",
   "metadata": {},
   "outputs": [],
   "source": []
  }
 ],
 "metadata": {
  "kernelspec": {
   "display_name": "Python 3 (ipykernel)",
   "language": "python",
   "name": "python3"
  },
  "language_info": {
   "codemirror_mode": {
    "name": "ipython",
    "version": 3
   },
   "file_extension": ".py",
   "mimetype": "text/x-python",
   "name": "python",
   "nbconvert_exporter": "python",
   "pygments_lexer": "ipython3",
   "version": "3.10.6"
  }
 },
 "nbformat": 4,
 "nbformat_minor": 5
}
