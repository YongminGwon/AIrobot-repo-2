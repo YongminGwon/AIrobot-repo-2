{
 "cells": [
  {
   "cell_type": "code",
   "execution_count": 200,
   "id": "0045f8fc",
   "metadata": {},
   "outputs": [
    {
     "data": {
      "text/plain": [
       "True"
      ]
     },
     "execution_count": 200,
     "metadata": {},
     "output_type": "execute_result"
    }
   ],
   "source": [
    "import cv2\n",
    "import sys\n",
    "import numpy as np\n",
    "import matplotlib.pyplot as plt\n",
    "\n",
    "# 지도 이미지 로드\n",
    "pgm_img = cv2.imread('map_baby.pgm', cv2.IMREAD_GRAYSCALE)\n",
    "# PNG로 저장\n",
    "cv2.imwrite('map.png', pgm_img)"
   ]
  },
  {
   "cell_type": "code",
   "execution_count": 201,
   "id": "60d4ba71",
   "metadata": {},
   "outputs": [
    {
     "data": {
      "text/plain": [
       "<matplotlib.image.AxesImage at 0x7f9c323da950>"
      ]
     },
     "execution_count": 201,
     "metadata": {},
     "output_type": "execute_result"
    },
    {
     "data": {
      "image/png": "[encoded data removed]",
      "text/plain": [
       "<Figure size 640x480 with 1 Axes>"
      ]
     },
     "metadata": {},
     "output_type": "display_data"
    }
   ],
   "source": [
    "map_img = cv2.imread(\"map.png\",cv2.COLOR_BGR2GRAY )\n",
    "plt.imshow(map_img)"
   ]
  },
  {
   "cell_type": "code",
   "execution_count": 202,
   "id": "49599e87",
   "metadata": {},
   "outputs": [
    {
     "data": {
      "text/plain": [
       "205"
      ]
     },
     "execution_count": 202,
     "metadata": {},
     "output_type": "execute_result"
    }
   ],
   "source": [
    "map_img[1,1]"
   ]
  },
  {
   "cell_type": "code",
   "execution_count": 203,
   "id": "5c259301",
   "metadata": {},
   "outputs": [],
   "source": [
    "# opencv 이미지 그리드 분할 생각해보면 가로몇개로 할지, 세로 몇개로할지가 문제인데\n",
    "# 여기까지는 사람의 손이 들어가야할 파라미터라고 생각됨. 파라미터가 많아질수록 복잡해지고, 파라미터가 적을수록 단순해진다."
   ]
  },
  {
   "cell_type": "code",
   "execution_count": 204,
   "id": "d0b59073",
   "metadata": {},
   "outputs": [],
   "source": [
    "def image_Grid(h, w, img):\n",
    "    img_height, img_width = img.shape\n",
    "    grid_size = (h, w)  # 세로, 가로\n",
    "    \n",
    "    # 그리드 영역 크기 계산\n",
    "    cell_height = img_height // grid_size[0]\n",
    "    cell_width = img_width // grid_size[1]\n",
    "\n",
    "    \n",
    "    map_cost = []\n",
    "    map_col = []\n",
    "    \n",
    "    #각각의 그리드 영역에서 흰색 픽셀 비율 계산\n",
    "    for i in range(grid_size[0]):\n",
    "        map_col = []\n",
    "        for j in range(grid_size[1]):\n",
    "            # 그리드 영역의 범위를 지정하는거고\n",
    "            cell_top = i * cell_height\n",
    "            cell_left = j * cell_width\n",
    "            cell_bottom = cell_top + cell_height\n",
    "            cell_right = cell_left + cell_width\n",
    "            \n",
    "            \n",
    "            if i == h-1:\n",
    "                cell_bottom = img_height\n",
    "                \n",
    "            \n",
    "            # 그 맵의 모든 픽셀을 가져와서\n",
    "            cell = img[cell_top:cell_bottom, cell_left:cell_right]\n",
    "            \n",
    "\n",
    "            wall = 0\n",
    "            load = 0\n",
    "            for row in range(len(cell)):\n",
    "                for col in range(len(cell[0])):\n",
    "                \n",
    "                    if cell[row][col] <= 210:\n",
    "                        wall += 1;\n",
    "                    else:\n",
    "                        load += 1\n",
    "            \n",
    "                \n",
    "            if load > wall:\n",
    "                map_col.append(0)\n",
    "            else:\n",
    "                map_col.append(1)\n",
    "        \n",
    "        map_cost.append(map_col)\n",
    "                \n",
    "    return map_cost"
   ]
  },
  {
   "cell_type": "code",
   "execution_count": 205,
   "id": "a3f9d40d",
   "metadata": {},
   "outputs": [
    {
     "name": "stdout",
     "output_type": "stream",
     "text": [
      "[0, 1, 0, 0, 0, 1, 1, 1, 0, 0, 1, 1]\n",
      "[0, 0, 0, 1, 0, 0, 0, 0, 0, 0, 0, 0]\n",
      "[0, 1, 0, 0, 0, 0, 1, 0, 0, 0, 0, 1]\n"
     ]
    }
   ],
   "source": [
    "map_param = image_Grid(3, 12, map_img)\n",
    "for i in map_param:\n",
    "    print(i)"
   ]
  },
  {
   "cell_type": "code",
   "execution_count": 206,
   "id": "73d1a12e",
   "metadata": {},
   "outputs": [],
   "source": [
    "class Astar:\n",
    "    def __init__(self, parent=None, position=None):\n",
    "        self.parent = parent\n",
    "        self.position = position\n",
    "\n",
    "        self.g = 0\n",
    "        self.h = 0\n",
    "        self.f = 0\n",
    "\n",
    "    def __eq__(self, other):\n",
    "        return self.position == other.position\n",
    "\n",
    "    def heuristic(self, node, goal, D=1, D2=2 ** 0.5):  # Diagonal Distance\n",
    "        dx = abs(node.position[0] - goal.position[0])\n",
    "        dy = abs(node.position[1] - goal.position[1])\n",
    "        return D * (dx + dy)\n",
    "\n",
    "\n",
    "    def aStar(self, maze, start, end):\n",
    "        # startNode와 endNode 초기화\n",
    "        startNode = Node(None, start)\n",
    "        endNode = Node(None, end)\n",
    "\n",
    "        # openList, closedList 초기화\n",
    "        openList = []\n",
    "        closedList = []\n",
    "\n",
    "        # openList에 시작 노드 추가\n",
    "        openList.append(startNode)\n",
    "\n",
    "        # endNode를 찾을 때까지 실행\n",
    "        while openList:\n",
    "\n",
    "            # 현재 노드 지정\n",
    "            currentNode = openList[0]\n",
    "            currentIdx = 0\n",
    "\n",
    "            # 이미 같은 노드가 openList에 있고, f 값이 더 크면\n",
    "            # currentNode를 openList안에 있는 값으로 교체\n",
    "            for index, item in enumerate(openList):\n",
    "                if item.f < currentNode.f:\n",
    "                    currentNode = item\n",
    "                    currentIdx = index\n",
    "\n",
    "            # openList에서 제거하고 closedList에 추가\n",
    "            openList.pop(currentIdx)\n",
    "            closedList.append(currentNode)\n",
    "\n",
    "            # 현재 노드가 목적지면 current.position 추가하고\n",
    "            # current의 부모로 이동\n",
    "            if currentNode == endNode:\n",
    "                path = []\n",
    "                current = currentNode\n",
    "                while current is not None:\n",
    "                    # maze 길을 표시하려면 주석 해제\n",
    "                    x, y = current.position\n",
    "                    maze[x][y] = 2\n",
    "                    path.append(current.position)\n",
    "                    current = current.parent\n",
    "                return path[::-1]  # reverse\n",
    "\n",
    "            children = []\n",
    "            # 인접한 xy좌표 전부\n",
    "            for newPosition in [(0, -1), (0, 1), (-1, 0), (1, 0)]:\n",
    "\n",
    "                # 노드 위치 업데이트\n",
    "                nodePosition = (\n",
    "                    currentNode.position[0] + newPosition[0],  # X\n",
    "                    currentNode.position[1] + newPosition[1])  # Y\n",
    "                    \n",
    "                # 미로 maze index 범위 안에 있어야함\n",
    "                within_range_criteria = [\n",
    "                    nodePosition[0] > (len(maze) - 1),\n",
    "                    nodePosition[0] < 0,\n",
    "                    nodePosition[1] > (len(maze[len(maze) - 1]) - 1),\n",
    "                    nodePosition[1] < 0,\n",
    "                ]\n",
    "\n",
    "                if any(within_range_criteria):  # 하나라도 true면 범위 밖임\n",
    "                    continue\n",
    "\n",
    "                # 장애물이 있으면 다른 위치 불러오기\n",
    "                if maze[nodePosition[0]][nodePosition[1]] != 0:\n",
    "                    continue\n",
    "\n",
    "                new_node = Node(currentNode, nodePosition)\n",
    "                children.append(new_node)\n",
    "\n",
    "            # 자식들 모두 loop\n",
    "            for child in children:\n",
    "\n",
    "                # 자식이 closedList에 있으면 continue\n",
    "                if child in closedList:\n",
    "                    continue\n",
    "\n",
    "                # f, g, h값 업데이트\n",
    "                child.g = currentNode.g + 1\n",
    "                child.h = ((child.position[0] - endNode.position[0]) **\n",
    "                        2) + ((child.position[1] - endNode.position[1]) ** 2)\n",
    "                # child.h = heuristic(child, endNode) 다른 휴리스틱\n",
    "                # print(\"position:\", child.position) 거리 추정 값 보기\n",
    "                # print(\"from child to goal:\", child.h)\n",
    "                \n",
    "                child.f = child.g + child.h\n",
    "\n",
    "                # 자식이 openList에 있으고, g값이 더 크면 continue\n",
    "                if len([openNode for openNode in openList\n",
    "                        if child == openNode and child.g > openNode.g]) > 0:\n",
    "                    continue\n",
    "                        \n",
    "                openList.append(child)\n",
    "\n",
    "    def run(self, maze, start, end):\n",
    "        path = self.aStar(maze, start, end)\n",
    "        return maze, path\n"
   ]
  },
  {
   "cell_type": "code",
   "execution_count": 210,
   "id": "91c4174b",
   "metadata": {},
   "outputs": [
    {
     "name": "stdout",
     "output_type": "stream",
     "text": [
      "맵입니다.\n",
      "[0, 1, 0, 0, 0, 1, 1, 1, 0, 0, 1, 1]\n",
      "[0, 0, 0, 1, 0, 0, 0, 0, 0, 0, 0, 0]\n",
      "[0, 1, 0, 0, 0, 0, 1, 0, 0, 0, 0, 1]\n",
      "\n",
      "경로 생성 맵입니다. 숫자 2는 경로입니다.\n",
      "[2, 1, 2, 2, 2, 1, 1, 1, 0, 0, 1, 1]\n",
      "[2, 2, 2, 1, 2, 2, 2, 2, 2, 2, 2, 2]\n",
      "[0, 1, 0, 0, 0, 0, 1, 0, 0, 0, 0, 1]\n"
     ]
    },
    {
     "data": {
      "image/png": "[encoded data removed]",
      "text/plain": [
       "<Figure size 640x480 with 1 Axes>"
      ]
     },
     "metadata": {},
     "output_type": "display_data"
    }
   ],
   "source": [
    "plt.imshow(map_img)\n",
    "\n",
    "\n",
    "\n",
    "map_param = image_Grid(3, 12, map_img)\n",
    "\n",
    "print(\"맵입니다.\")\n",
    "for i in map_param:\n",
    "    print(i)\n",
    "print()\n",
    "\n",
    "make_route = Astar()\n",
    "start = (1, 11)\n",
    "end = (0, 0)\n",
    "result, path = make_route.run(map_param , start, end)\n",
    "\n",
    "\n",
    "print(\"경로 생성 맵입니다. 숫자 2는 경로입니다.\")\n",
    "for i in result:\n",
    "    print(i)"
   ]
  },
  {
   "cell_type": "code",
   "execution_count": null,
   "id": "b22dd9ce",
   "metadata": {},
   "outputs": [],
   "source": [
    "# 해야할일 이거 로스랑 연동시키기\n",
    "# 각 지점 좌표값 받기 그 지점 좌표값까지는 Nav2로 이동시키기 \n",
    "# 완성가능합니다."
   ]
  }
 ],
 "metadata": {
  "kernelspec": {
   "display_name": "Python 3 (ipykernel)",
   "language": "python",
   "name": "python3"
  },
  "language_info": {
   "codemirror_mode": {
    "name": "ipython",
    "version": 3
   },
   "file_extension": ".py",
   "mimetype": "text/x-python",
   "name": "python",
   "nbconvert_exporter": "python",
   "pygments_lexer": "ipython3",
   "version": "3.10.6"
  }
 },
 "nbformat": 4,
 "nbformat_minor": 5
}
