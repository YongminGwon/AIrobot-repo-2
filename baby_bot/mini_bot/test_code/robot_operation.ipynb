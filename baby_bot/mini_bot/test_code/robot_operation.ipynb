{
 "cells": [
  {
   "cell_type": "code",
   "execution_count": 2,
   "id": "734c9e81",
   "metadata": {},
   "outputs": [],
   "source": [
    "from nav2_simple_commander.robot_navigator import BasicNavigator\n",
    "from rclpy.duration import Duration\n",
    "import rclpy\n",
    "\n",
    "rclpy.init()\n",
    "nav = BasicNavigator()"
   ]
  },
  {
   "cell_type": "code",
   "execution_count": 3,
   "id": "d17c6809",
   "metadata": {},
   "outputs": [
    {
     "name": "stderr",
     "output_type": "stream",
     "text": [
      "[INFO] [1678881418.604213878] [basic_navigator]: Nav2 is ready for use!\n"
     ]
    }
   ],
   "source": [
    "nav.waitUntilNav2Active()"
   ]
  },
  {
   "cell_type": "code",
   "execution_count": 4,
   "id": "d3d7b242",
   "metadata": {},
   "outputs": [],
   "source": [
    "from geometry_msgs.msg import PoseStamped\n",
    "# home으로 보내는 위치정보\n",
    "goal_home = PoseStamped()\n",
    "goal_home.header.frame_id = 'map'\n",
    "goal_home.header.stamp = nav.get_clock().now().to_msg()\n",
    "goal_home.pose.position.x = -0.011291180737316608\n",
    "goal_home.pose.position.y= -0.01612980104982853\n",
    "goal_home.pose.position.z = 0.01239013671875\n",
    "goal_home.pose.orientation.x = 0.0\n",
    "goal_home.pose.orientation.y = 0.0\n",
    "goal_home.pose.orientation.z = 0.0\n",
    "goal_home.pose.orientation.w = 1.0"
   ]
  },
  {
   "cell_type": "code",
   "execution_count": 5,
   "id": "2324db62",
   "metadata": {},
   "outputs": [
    {
     "data": {
      "text/plain": [
       "geometry_msgs.msg.PoseStamped(header=std_msgs.msg.Header(stamp=builtin_interfaces.msg.Time(sec=1678881418, nanosec=727470163), frame_id='map'), pose=geometry_msgs.msg.Pose(position=geometry_msgs.msg.Point(x=-0.011291180737316608, y=-0.01612980104982853, z=0.01239013671875), orientation=geometry_msgs.msg.Quaternion(x=0.0, y=0.0, z=0.0, w=1.0)))"
      ]
     },
     "execution_count": 5,
     "metadata": {},
     "output_type": "execute_result"
    }
   ],
   "source": [
    "goal_home"
   ]
  },
  {
   "cell_type": "code",
   "execution_count": 6,
   "id": "67c277be",
   "metadata": {},
   "outputs": [
    {
     "name": "stderr",
     "output_type": "stream",
     "text": [
      "[INFO] [1678779219.407379427] [basic_navigator]: Navigating to goal: 3.3866727352142334 -0.03688139468431473...\n"
     ]
    },
    {
     "name": "stdout",
     "output_type": "stream",
     "text": [
      "Distance remaining : 3.3037357330322266 m\n",
      "Distance remaining : 3.153735637664795 m\n",
      "Distance remaining : 3.0537357330322266 m\n",
      "Distance remaining : 2.903735637664795 m\n",
      "Distance remaining : 2.8037357330322266 m\n",
      "Distance remaining : 2.653735637664795 m\n",
      "Distance remaining : 2.5537357330322266 m\n",
      "Distance remaining : 2.403735637664795 m\n",
      "Distance remaining : 2.3037357330322266 m\n",
      "Distance remaining : 2.153735637664795 m\n",
      "Distance remaining : 2.0537354946136475 m\n",
      "Distance remaining : 1.903735637664795 m\n",
      "Distance remaining : 1.7534698247909546 m\n",
      "Distance remaining : 1.6534698009490967 m\n",
      "Distance remaining : 1.5534697771072388 m\n",
      "Distance remaining : 1.4034698009490967 m\n",
      "Distance remaining : 1.303735613822937 m\n",
      "Distance remaining : 1.153735637664795 m\n",
      "Distance remaining : 1.053735613822937 m\n",
      "Distance remaining : 0.9037355780601501 m\n",
      "Distance remaining : 0.8034697771072388 m\n",
      "Distance remaining : 0.7034697532653809 m\n",
      "Distance remaining : 0.5537376403808594 m\n",
      "Distance remaining : 0.453732430934906 m\n",
      "Distance remaining : 0.30000001192092896 m\n"
     ]
    },
    {
     "name": "stderr",
     "output_type": "stream",
     "text": [
      "[INFO] [1678779232.270376678] [basic_navigator]: Navigating to goal: 0.2140897661447525 -2.4429008960723877...\n"
     ]
    },
    {
     "name": "stdout",
     "output_type": "stream",
     "text": [
      "Distance remaining : 4.539597988128662 m\n",
      "Distance remaining : 4.539597988128662 m\n",
      "Distance remaining : 4.485417366027832 m\n",
      "Distance remaining : 4.3354172706604 m\n",
      "Distance remaining : 4.285417079925537 m\n",
      "Distance remaining : 4.185417175292969 m\n",
      "Distance remaining : 4.098121166229248 m\n",
      "Distance remaining : 3.997738838195801 m\n",
      "Distance remaining : 3.846405029296875 m\n",
      "Distance remaining : 3.726762056350708 m\n",
      "Distance remaining : 3.5575408935546875 m\n",
      "Distance remaining : 3.430656909942627 m\n",
      "Distance remaining : 3.346553325653076 m\n",
      "Distance remaining : 3.2196691036224365 m\n",
      "Distance remaining : 3.050226926803589 m\n",
      "Distance remaining : 2.937457799911499 m\n",
      "Distance remaining : 2.8368403911590576 m\n",
      "Distance remaining : 2.735029697418213 m\n",
      "Distance remaining : 2.595897912979126 m\n",
      "Distance remaining : 2.444045066833496 m\n",
      "Distance remaining : 2.326138734817505 m\n",
      "Distance remaining : 2.174285650253296 m\n",
      "Distance remaining : 2.0441999435424805 m\n",
      "Distance remaining : 1.9423892498016357 m\n",
      "Distance remaining : 1.8435025215148926 m\n",
      "Distance remaining : 1.6838918924331665 m\n",
      "Distance remaining : 1.5953013896942139 m\n",
      "Distance remaining : 1.4356907606124878 m\n",
      "Distance remaining : 1.3356410264968872 m\n",
      "Distance remaining : 1.2356410026550293 m\n",
      "Distance remaining : 1.1368125677108765 m\n",
      "Distance remaining : 0.9864157438278198 m\n",
      "Distance remaining : 0.0 m\n",
      "Distance remaining : 0.0 m\n",
      "Distance remaining : 0.0 m\n",
      "Distance remaining : 0.0 m\n",
      "Distance remaining : 0.0 m\n",
      "Distance remaining : 0.0 m\n",
      "Distance remaining : 0.0 m\n",
      "Distance remaining : 0.0 m\n"
     ]
    },
    {
     "name": "stderr",
     "output_type": "stream",
     "text": [
      "[INFO] [1678779252.363717823] [basic_navigator]: Canceling current task.\n"
     ]
    }
   ],
   "source": [
    "nav.goToPose(goal_up)\n",
    "\n",
    "i=0\n",
    "while not nav.isTaskComplete():\n",
    "    i = i+1\n",
    "    feedback = nav.getFeedback()\n",
    "    if feedback and i % 5 == 0:\n",
    "        print(\"Distance remaining : \" + str(feedback.distance_remaining) + \" m\")\n",
    "    \n",
    "    if Duration.from_msg(feedback.navigation_time) > Duration(seconds = 20.0):\n",
    "        nav.cancelTask()"
   ]
  },
  {
   "cell_type": "code",
   "execution_count": 4,
   "id": "6d9df86b",
   "metadata": {},
   "outputs": [
    {
     "name": "stderr",
     "output_type": "stream",
     "text": [
      "[INFO] [1678775024.558954316] [basic_navigator]: Navigating to goal: 0.0 0.0...\n"
     ]
    },
    {
     "data": {
      "text/plain": [
       "False"
      ]
     },
     "execution_count": 4,
     "metadata": {},
     "output_type": "execute_result"
    }
   ],
   "source": [
    "nav.goToPose(goal_pose)\n",
    "# 이 코드의 위치는 어디일까?\n",
    "nav.isTaskComplete()\n",
    "# isTaskComplete() 가 True를 반환하는 시점은 즉각이다. 그러니 이를 활용한 코드를 짤 계획이라면\n"
   ]
  },
  {
   "cell_type": "code",
   "execution_count": 5,
   "id": "2b478c3f",
   "metadata": {},
   "outputs": [
    {
     "name": "stderr",
     "output_type": "stream",
     "text": [
      "[INFO] [1678774701.043176251] [basic_navigator]: Nav2 is ready for use!\n"
     ]
    }
   ],
   "source": [
    "nav.waitUntilNav2Active()"
   ]
  },
  {
   "cell_type": "code",
   "execution_count": 3,
   "id": "fc4bce4b",
   "metadata": {},
   "outputs": [],
   "source": [
    "import numpy as np\n",
    "import nav_msgs.msg as nav_msgs\n",
    "import geometry_msgs.msg as geometry_msgs\n",
    "\n",
    "def add_pose(path, pose):\n",
    "    pose_stamped = geometry_msgs.PoseStamped(pose=pose)\n",
    "    pose_stamped.header.frame_id = path.header.frame_id\n",
    "    pose_stamped.header.stamp = path.header.stamp\n",
    "    path.poses.append(pose_stamped)\n",
    "\n",
    "def create_waypoints_from_path(path: nav_msgs.Path):\n",
    "    waypoints = []\n",
    "    for pose_stamped in path.poses:\n",
    "        position = pose_stamped.pose.position\n",
    "        orientation = pose_stamped.pose.orientation\n",
    "        waypoints.append(geometry_msgs.PoseStamped(pose=geometry_msgs.Pose(position=position, orientation=orientation)))\n",
    "    return waypoints"
   ]
  },
  {
   "cell_type": "code",
   "execution_count": 4,
   "id": "918ce749",
   "metadata": {},
   "outputs": [
    {
     "ename": "AttributeError",
     "evalue": "module 'nav_msgs.msg' has no attribute 'get_clock'",
     "output_type": "error",
     "traceback": [
      "\u001b[0;31m---------------------------------------------------------------------------\u001b[0m",
      "\u001b[0;31mAttributeError\u001b[0m                            Traceback (most recent call last)",
      "\u001b[0;32m/tmp/ipykernel_57202/2529773731.py\u001b[0m in \u001b[0;36m<module>\u001b[0;34m\u001b[0m\n\u001b[1;32m     16\u001b[0m \u001b[0mpath\u001b[0m \u001b[0;34m=\u001b[0m \u001b[0mnav_msgs\u001b[0m\u001b[0;34m.\u001b[0m\u001b[0mPath\u001b[0m\u001b[0;34m(\u001b[0m\u001b[0;34m)\u001b[0m\u001b[0;34m\u001b[0m\u001b[0;34m\u001b[0m\u001b[0m\n\u001b[1;32m     17\u001b[0m \u001b[0mpath\u001b[0m\u001b[0;34m.\u001b[0m\u001b[0mheader\u001b[0m\u001b[0;34m.\u001b[0m\u001b[0mframe_id\u001b[0m \u001b[0;34m=\u001b[0m \u001b[0;34m'map'\u001b[0m\u001b[0;34m\u001b[0m\u001b[0;34m\u001b[0m\u001b[0m\n\u001b[0;32m---> 18\u001b[0;31m \u001b[0mpath\u001b[0m\u001b[0;34m.\u001b[0m\u001b[0mheader\u001b[0m\u001b[0;34m.\u001b[0m\u001b[0mstamp\u001b[0m \u001b[0;34m=\u001b[0m \u001b[0mnav_msgs\u001b[0m\u001b[0;34m.\u001b[0m\u001b[0mget_clock\u001b[0m\u001b[0;34m(\u001b[0m\u001b[0;34m)\u001b[0m\u001b[0;34m.\u001b[0m\u001b[0mnow\u001b[0m\u001b[0;34m(\u001b[0m\u001b[0;34m)\u001b[0m\u001b[0;34m.\u001b[0m\u001b[0mto_msg\u001b[0m\u001b[0;34m(\u001b[0m\u001b[0;34m)\u001b[0m\u001b[0;34m\u001b[0m\u001b[0;34m\u001b[0m\u001b[0m\n\u001b[0m\u001b[1;32m     19\u001b[0m \u001b[0;34m\u001b[0m\u001b[0m\n\u001b[1;32m     20\u001b[0m \u001b[0;31m# pose 추가\u001b[0m\u001b[0;34m\u001b[0m\u001b[0;34m\u001b[0m\u001b[0m\n",
      "\u001b[0;31mAttributeError\u001b[0m: module 'nav_msgs.msg' has no attribute 'get_clock'"
     ]
    }
   ],
   "source": [
    "from geometry_msgs.msg import PoseStamped\n",
    "import nav_msgs.msg as nav_msgs\n",
    "import geometry_msgs.msg as geometry_msgs\n",
    "\n",
    "# home으로 보내는 위치정보\n",
    "goal_home = PoseStamped()\n",
    "goal_home.pose.position.x = -0.011291180737316608\n",
    "goal_home.pose.position.y= -0.01612980104982853\n",
    "goal_home.pose.position.z = 0.01239013671875\n",
    "goal_home.pose.orientation.x = 0.0\n",
    "goal_home.pose.orientation.y = 0.0\n",
    "goal_home.pose.orientation.z = 0.0\n",
    "goal_home.pose.orientation.w = 1.0\n",
    "\n",
    "# nav_msgs.Path 생성\n",
    "path = nav_msgs.Path()\n",
    "path.header.frame_id = 'map'\n",
    "path.header.stamp = nav_msgs.get_clock().now().to_msg()\n",
    "\n",
    "# pose 추가\n",
    "add_pose(path, goal_home.pose)\n",
    "\n",
    "# waypoint 리스트 추출\n",
    "waypoints = create_waypoints_from_path(path)\n",
    "print(waypoints)"
   ]
  },
  {
   "cell_type": "code",
   "execution_count": 1,
   "id": "33aff7f4",
   "metadata": {},
   "outputs": [],
   "source": [
    "import numpy as np\n",
    "import nav_msgs.msg as nav_msgs\n",
    "import geometry_msgs.msg as geometry_msgs\n",
    "import rclpy"
   ]
  },
  {
   "cell_type": "code",
   "execution_count": 2,
   "id": "682bccec",
   "metadata": {},
   "outputs": [],
   "source": [
    "def create_waypoints_from_path(path: nav_msgs.Path):\n",
    "    waypoints = []\n",
    "    for pose_stamped in path.poses:\n",
    "        position = pose_stamped.pose.position\n",
    "        orientation = pose_stamped.pose.orientation\n",
    "        waypoints.append(geometry_msgs.PoseStamped(pose=geometry_msgs.Pose(position=position, orientation=orientation)))\n",
    "    return waypoints"
   ]
  },
  {
   "cell_type": "code",
   "execution_count": 3,
   "id": "7de93a27",
   "metadata": {},
   "outputs": [],
   "source": [
    "# Create a ROS2 node\n",
    "rclpy.init()\n",
    "node = rclpy.create_node('waypoints_creator')"
   ]
  },
  {
   "cell_type": "code",
   "execution_count": 10,
   "id": "8453abd4",
   "metadata": {},
   "outputs": [],
   "source": [
    "# home으로 보내는 위치정보\n",
    "goal_home = geometry_msgs.PoseStamped()\n",
    "goal_home.header.frame_id = 'map'\n",
    "goal_home.header.stamp = node.get_clock().now().to_msg()\n",
    "goal_home.pose.position.x = -5.248409748077393\n",
    "goal_home.pose.position.y= 0.4546639323234558\n",
    "goal_home.pose.position.z = -0.001434326171875\n",
    "goal_home.pose.orientation.x = 0.0\n",
    "goal_home.pose.orientation.y = 0.0\n",
    "goal_home.pose.orientation.z = 0.0\n",
    "goal_home.pose.orientation.w = 1.0"
   ]
  },
  {
   "cell_type": "code",
   "execution_count": 11,
   "id": "71ea7394",
   "metadata": {},
   "outputs": [],
   "source": [
    "import nav_msgs.msg as nav_msgs\n",
    "import geometry_msgs.msg as geometry_msgs\n",
    "from math import floor\n",
    "\n",
    "def create_waypoints_from_path(path: nav_msgs.Path, waypoint_distance: float):\n",
    "    waypoints = []\n",
    "    total_distance = 0.0\n",
    "    for i in range(1, len(path.poses)):\n",
    "        # 현재 pose와 이전 pose 사이의 거리를 계산\n",
    "        dx = path.poses[i].pose.position.x - path.poses[i-1].pose.position.x\n",
    "        dy = path.poses[i].pose.position.y - path.poses[i-1].pose.position.y\n",
    "        dz = path.poses[i].pose.position.z - path.poses[i-1].pose.position.z\n",
    "        distance = (dx**2 + dy**2 + dz**2)**0.5\n",
    "\n",
    "        # 현재 pose와 이전 pose 사이의 거리가 waypoint_distance 이상일 때까지 새로운 waypoint 생성\n",
    "        j = 1\n",
    "        while j*waypoint_distance < distance:\n",
    "            ratio = j*waypoint_distance/distance\n",
    "            x = path.poses[i-1].pose.position.x + dx*ratio\n",
    "            y = path.poses[i-1].pose.position.y + dy*ratio\n",
    "            z = path.poses[i-1].pose.position.z + dz*ratio\n",
    "            position = geometry_msgs.Point(x=x, y=y, z=z)\n",
    "            orientation = path.poses[i].pose.orientation\n",
    "            waypoint = geometry_msgs.PoseStamped(pose=geometry_msgs.Pose(position=position, orientation=orientation))\n",
    "            waypoints.append(waypoint)\n",
    "            j += 1\n",
    "\n",
    "        if distance < waypoint_distance:\n",
    "            position = path.poses[i].pose.position\n",
    "            orientation = path.poses[i].pose.orientation\n",
    "            waypoint = geometry_msgs.PoseStamped(pose=geometry_msgs.Pose(position=position, orientation=orientation))\n",
    "            waypoints.append(waypoint)\n",
    "\n",
    "        total_distance += distance\n",
    "\n",
    "    # 경로 상 마지막 pose를 waypoint로 추가\n",
    "    waypoints.append(path.poses[-1])\n",
    "\n",
    "    return waypoints"
   ]
  },
  {
   "cell_type": "code",
   "execution_count": 12,
   "id": "7add8c6d",
   "metadata": {},
   "outputs": [
    {
     "name": "stdout",
     "output_type": "stream",
     "text": [
      "1\n"
     ]
    }
   ],
   "source": [
    "# nav_msgs.Path 생성\n",
    "path = nav_msgs.Path()\n",
    "path.header.frame_id = 'map'\n",
    "path.header.stamp = node.get_clock().now().to_msg()\n",
    "path.poses.append(goal_home)\n",
    "\n",
    "# waypoint 리스트 추출\n",
    "waypoints = create_waypoints_from_path(path, 0.01)\n",
    "print(len(waypoints))"
   ]
  },
  {
   "cell_type": "code",
   "execution_count": 1,
   "id": "5c71a9bc",
   "metadata": {},
   "outputs": [
    {
     "data": {
      "text/plain": [
       "(0, 0)"
      ]
     },
     "execution_count": 1,
     "metadata": {},
     "output_type": "execute_result"
    }
   ],
   "source": [
    "0,0 "
   ]
  },
  {
   "cell_type": "code",
   "execution_count": null,
   "id": "714efcdd",
   "metadata": {},
   "outputs": [],
   "source": []
  }
 ],
 "metadata": {
  "kernelspec": {
   "display_name": "Python 3 (ipykernel)",
   "language": "python",
   "name": "python3"
  },
  "language_info": {
   "codemirror_mode": {
    "name": "ipython",
    "version": 3
   },
   "file_extension": ".py",
   "mimetype": "text/x-python",
   "name": "python",
   "nbconvert_exporter": "python",
   "pygments_lexer": "ipython3",
   "version": "3.10.6"
  }
 },
 "nbformat": 4,
 "nbformat_minor": 5
}
