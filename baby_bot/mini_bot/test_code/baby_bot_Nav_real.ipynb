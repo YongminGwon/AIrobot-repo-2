{
 "cells": [
  {
   "cell_type": "code",
   "execution_count": 1,
   "id": "86eddabf",
   "metadata": {},
   "outputs": [],
   "source": [
    "#ssh dupi@192.168.0.14\n",
    "#ros2 launch minibot_bringup bringup_robot.launch.py\n",
    "#ros2 launch minibot_navigation2 bringup_launch.py map:=`ros2 pkg prefix minibot_navigation2`/share/minibot_navigation2/maps/baby_real_map_cut.yaml\n",
    "#rviz2 -d `ros2 pkg prefix minibot_navigation2`/share/minibot_navigation2/rviz/nav2_view.rviz"
   ]
  },
  {
   "cell_type": "code",
   "execution_count": 2,
   "id": "1693d4c5",
   "metadata": {},
   "outputs": [],
   "source": [
    "from nav2_simple_commander.robot_navigator import BasicNavigator\n",
    "from geometry_msgs.msg import PoseWithCovarianceStamped\n",
    "from geometry_msgs.msg import PoseStamped\n",
    "from rclpy.duration import Duration\n",
    "import yaml\n",
    "import rclpy\n",
    "\n",
    "rclpy.init()\n",
    "nav = BasicNavigator()"
   ]
  },
  {
   "cell_type": "code",
   "execution_count": 3,
   "id": "5365d5b1",
   "metadata": {},
   "outputs": [
    {
     "data": {
      "text/plain": [
       "True"
      ]
     },
     "execution_count": 3,
     "metadata": {},
     "output_type": "execute_result"
    }
   ],
   "source": [
    "import cv2\n",
    "import sys\n",
    "import numpy as np\n",
    "import matplotlib.pyplot as plt\n",
    "\n",
    "# 지도 이미지 로드\n",
    "pgm_img = cv2.imread('./baby_real_map_cut.pgm', cv2.IMREAD_GRAYSCALE)\n",
    "# PNG로 저장\n",
    "cv2.imwrite('./baby_real_map_cut.png', pgm_img)"
   ]
  },
  {
   "cell_type": "code",
   "execution_count": 4,
   "id": "288622b2",
   "metadata": {
    "scrolled": true
   },
   "outputs": [
    {
     "data": {
      "text/plain": [
       "<matplotlib.image.AxesImage at 0x7f255cda1b70>"
      ]
     },
     "execution_count": 4,
     "metadata": {},
     "output_type": "execute_result"
    },
    {
     "data": {
      "image/png": "[encoded data removed]",
      "text/plain": [
       "<Figure size 640x480 with 1 Axes>"
      ]
     },
     "metadata": {},
     "output_type": "display_data"
    }
   ],
   "source": [
    "map_img = cv2.imread(\"./baby_real_map_cut.png\",cv2.COLOR_BGR2GRAY )\n",
    "plt.imshow(map_img)"
   ]
  },
  {
   "cell_type": "code",
   "execution_count": 5,
   "id": "fde1bb63",
   "metadata": {},
   "outputs": [],
   "source": [
    "def image_Grid(h, w, img):\n",
    "    img_height, img_width = img.shape\n",
    "    grid_size = (h, w)  # 세로, 가로\n",
    "    \n",
    "    # 그리드 영역 크기 계산\n",
    "    cell_height = img_height // grid_size[0]\n",
    "    cell_width = img_width // grid_size[1]\n",
    "\n",
    "    \n",
    "    map_cost = []\n",
    "    map_col = []\n",
    "    \n",
    "    #각각의 그리드 영역에서 흰색 픽셀 비율 계산\n",
    "    for i in range(grid_size[0]):\n",
    "        map_col = []\n",
    "        for j in range(grid_size[1]):\n",
    "            # 그리드 영역의 범위를 지정하는거고\n",
    "            cell_top = i * cell_height\n",
    "            cell_left = j * cell_width\n",
    "            cell_bottom = cell_top + cell_height\n",
    "            cell_right = cell_left + cell_width\n",
    "            \n",
    "            \n",
    "            if i == h-1:\n",
    "                cell_bottom = img_height\n",
    "                \n",
    "            \n",
    "            # 그 맵의 모든 픽셀을 가져와서\n",
    "            cell = img[cell_top:cell_bottom, cell_left:cell_right]\n",
    "\n",
    "            wall = 0\n",
    "            load = 0\n",
    "            for row in range(len(cell)):\n",
    "                for col in range(len(cell[0])):\n",
    "                \n",
    "                    if cell[row][col] <= 210:\n",
    "                        wall += 1;\n",
    "                    else:\n",
    "                        load += 1\n",
    "            \n",
    "                \n",
    "            if load > wall:\n",
    "                map_col.append(0)\n",
    "            else:\n",
    "                map_col.append(1)\n",
    "        \n",
    "        map_cost.append(map_col)\n",
    "                \n",
    "    return map_cost, cell_height, cell_width"
   ]
  },
  {
   "cell_type": "code",
   "execution_count": 6,
   "id": "2ffd114c",
   "metadata": {
    "scrolled": true
   },
   "outputs": [
    {
     "name": "stdout",
     "output_type": "stream",
     "text": [
      "[1, 0, 0]\n",
      "[0, 1, 0]\n",
      "[0, 0, 0]\n",
      "[1, 0, 1]\n",
      "[0, 0, 0]\n",
      "[1, 1, 0]\n",
      "[0, 0, 0]\n",
      "[1, 0, 1]\n",
      "[0, 0, 0]\n",
      "[0, 1, 0]\n",
      "[0, 0, 0]\n",
      "[0, 1, 0]\n"
     ]
    }
   ],
   "source": [
    "my_map, cell_height, cell_width = image_Grid(12, 3, map_img)\n",
    "for i in my_map:\n",
    "    print(i)"
   ]
  },
  {
   "cell_type": "code",
   "execution_count": 7,
   "id": "90d87551",
   "metadata": {},
   "outputs": [
    {
     "name": "stdout",
     "output_type": "stream",
     "text": [
      "0.05\n"
     ]
    }
   ],
   "source": [
    "# YAML 파일 경로 \n",
    "# 나중에 유저에게 맵 위치만 입력을 받게할 수 있을 \n",
    "yaml_path = \"./baby_real_map_cut.yaml\"\n",
    "\n",
    "# YAML 파일 읽기\n",
    "with open(yaml_path, \"r\") as stream:\n",
    "    yaml_data = yaml.safe_load(stream)\n",
    "\n",
    "# resolution 값 가져오기\n",
    "resolution = yaml_data[\"resolution\"]\n",
    "\n",
    "print(resolution)"
   ]
  },
  {
   "cell_type": "code",
   "execution_count": 8,
   "id": "5e771991",
   "metadata": {},
   "outputs": [],
   "source": [
    "class Astar:\n",
    "    def __init__(self, parent=None, position=None):\n",
    "        self.parent = parent\n",
    "        self.position = position\n",
    "\n",
    "        self.g = 0\n",
    "        self.h = 0\n",
    "        self.f = 0\n",
    "\n",
    "    def __eq__(self, other):\n",
    "        return self.position == other.position\n",
    "\n",
    "    def heuristic(self, node, goal, D=1, D2=2 ** 0.5):  # Diagonal Distance\n",
    "        dx = abs(node.position[0] - goal.position[0])\n",
    "        dy = abs(node.position[1] - goal.position[1])\n",
    "        return D * (dx + dy)\n",
    "\n",
    "\n",
    "    def aStar(self, maze, start, end):\n",
    "        # startNode와 endNode 초기화\n",
    "        startNode = Astar(None, start)\n",
    "        endNode = Astar(None, end)\n",
    "\n",
    "        # openList, closedList 초기화\n",
    "        openList = []\n",
    "        closedList = []\n",
    "\n",
    "        # openList에 시작 노드 추가\n",
    "        openList.append(startNode)\n",
    "\n",
    "        # endNode를 찾을 때까지 실행\n",
    "        while openList:\n",
    "\n",
    "            # 현재 노드 지정\n",
    "            currentNode = openList[0]\n",
    "            currentIdx = 0\n",
    "\n",
    "            # 이미 같은 노드가 openList에 있고, f 값이 더 크면\n",
    "            # currentNode를 openList안에 있는 값으로 교체\n",
    "            for index, item in enumerate(openList):\n",
    "                if item.f < currentNode.f:\n",
    "                    currentNode = item\n",
    "                    currentIdx = index\n",
    "\n",
    "            # openList에서 제거하고 closedList에 추가\n",
    "            openList.pop(currentIdx)\n",
    "            closedList.append(currentNode)\n",
    "\n",
    "            # 현재 노드가 목적지면 current.position 추가하고\n",
    "            # current의 부모로 이동\n",
    "            if currentNode == endNode:\n",
    "                path = []\n",
    "                current = currentNode\n",
    "                while current is not None:\n",
    "                    # maze 길을 표시하려면 주석 해제\n",
    "                    x, y = current.position\n",
    "                    maze[x][y] = 2\n",
    "                    path.append(current.position)\n",
    "                    current = current.parent\n",
    "                return path[::-1]  # reverse\n",
    "\n",
    "            children = []\n",
    "            # 인접한 xy좌표 전부\n",
    "            for newPosition in [(0, -1), (0, 1), (-1, 0), (1, 0)]:\n",
    "\n",
    "                # 노드 위치 업데이트\n",
    "                nodePosition = (\n",
    "                    currentNode.position[0] + newPosition[0],  # X\n",
    "                    currentNode.position[1] + newPosition[1])  # Y\n",
    "                    \n",
    "                # 미로 maze index 범위 안에 있어야함\n",
    "                within_range_criteria = [\n",
    "                    nodePosition[0] > (len(maze) - 1),\n",
    "                    nodePosition[0] < 0,\n",
    "                    nodePosition[1] > (len(maze[len(maze) - 1]) - 1),\n",
    "                    nodePosition[1] < 0,\n",
    "                ]\n",
    "\n",
    "                if any(within_range_criteria):  # 하나라도 true면 범위 밖임\n",
    "                    continue\n",
    "\n",
    "                # 장애물이 있으면 다른 위치 불러오기\n",
    "                if maze[nodePosition[0]][nodePosition[1]] != 0:\n",
    "                    continue\n",
    "\n",
    "                new_node = Astar(currentNode, nodePosition)\n",
    "                children.append(new_node)\n",
    "\n",
    "            # 자식들 모두 loop\n",
    "            for child in children:\n",
    "\n",
    "                # 자식이 closedList에 있으면 continue\n",
    "                if child in closedList:\n",
    "                    continue\n",
    "\n",
    "                # f, g, h값 업데이트\n",
    "                child.g = currentNode.g + 1\n",
    "                child.h = ((child.position[0] - endNode.position[0]) **\n",
    "                        2) + ((child.position[1] - endNode.position[1]) ** 2)\n",
    "                # child.h = heuristic(child, endNode) 다른 휴리스틱\n",
    "                # print(\"position:\", child.position) 거리 추정 값 보기\n",
    "                # print(\"from child to goal:\", child.h)\n",
    "                \n",
    "                child.f = child.g + child.h\n",
    "\n",
    "                # 자식이 openList에 있으고, g값이 더 크면 continue\n",
    "                if len([openNode for openNode in openList\n",
    "                        if child == openNode and child.g > openNode.g]) > 0:\n",
    "                    continue\n",
    "                        \n",
    "                openList.append(child)\n",
    "\n",
    "    def run(self, maze, start, end):\n",
    "        path = self.aStar(maze, start, end)\n",
    "        return maze, path"
   ]
  },
  {
   "cell_type": "code",
   "execution_count": 9,
   "id": "745f044d",
   "metadata": {},
   "outputs": [
    {
     "name": "stdout",
     "output_type": "stream",
     "text": [
      "0.65 0.6000000000000001\n"
     ]
    }
   ],
   "source": [
    "#그리드 한 칸의 크기와 resolution의 곱이 결국 이동한 m값이 됩니다.\n",
    "garo_m = resolution * cell_width\n",
    "sero_m = resolution * cell_height\n",
    "\n",
    "print(garo_m, sero_m)"
   ]
  },
  {
   "cell_type": "code",
   "execution_count": 10,
   "id": "2688d172",
   "metadata": {},
   "outputs": [
    {
     "name": "stdout",
     "output_type": "stream",
     "text": [
      "[None, [0.0, 0.0], [0.65, 0.0]]\n",
      "\n",
      "[[-0.65, -0.6], None, [0.65, -0.6]]\n",
      "\n",
      "[[-0.65, -1.2], [0.0, -1.2], [0.65, -1.2]]\n",
      "\n",
      "[None, [0.0, -1.7999999999999998], None]\n",
      "\n",
      "[[-0.65, -2.4], [0.0, -2.4], [0.65, -2.4]]\n",
      "\n",
      "[None, None, [0.65, -3.0]]\n",
      "\n",
      "[[-0.65, -3.6], [0.0, -3.6], [0.65, -3.6]]\n",
      "\n",
      "[None, [0.0, -4.2], None]\n",
      "\n",
      "[[-0.65, -4.8], [0.0, -4.8], [0.65, -4.8]]\n",
      "\n",
      "[[-0.65, -5.3999999999999995], None, [0.65, -5.3999999999999995]]\n",
      "\n",
      "[[-0.65, -5.999999999999999], [0.0, -5.999999999999999], [0.65, -5.999999999999999]]\n",
      "\n",
      "[[-0.65, -6.599999999999999], None, [0.65, -6.599999999999999]]\n",
      "\n"
     ]
    }
   ],
   "source": [
    "my_map_coordinate = []\n",
    "my_map_layer = []\n",
    "\n",
    "cor_x = -1.3  #0.65씩 더하세요\n",
    "cor_y = 0.6  #0.6씩 빼세요.\n",
    "    \n",
    "for i in range(len(my_map)):\n",
    "    cor_x = -1.3\n",
    "    cor_y = cor_y - 0.6\n",
    "    for j in range(len(my_map[0])):\n",
    "        cor_x = cor_x + 0.65\n",
    "        if my_map[i][j] == 1:\n",
    "            my_map_layer.append(None)\n",
    "        elif my_map[i][j] == 0:\n",
    "            my_map_layer.append([cor_x, cor_y])\n",
    "\n",
    "    my_map_coordinate.append(my_map_layer)\n",
    "    my_map_layer = []\n",
    "    \n",
    "for i in my_map_coordinate:\n",
    "    print(i)\n",
    "    print()"
   ]
  },
  {
   "cell_type": "code",
   "execution_count": 11,
   "id": "29a00f06",
   "metadata": {},
   "outputs": [],
   "source": [
    "my_map_coordinate = []\n",
    "my_map_layer = []\n",
    "\n",
    "cor_x = -1.3  #0.65씩 더하세요\n",
    "cor_y = 0.6  #0.6씩 빼세요.\n",
    "    \n",
    "for i in range(len(my_map)):\n",
    "    cor_x = -1.3\n",
    "    cor_y = cor_y - 0.6\n",
    "    for j in range(len(my_map[0])):\n",
    "        cor_x = cor_x + 0.65\n",
    "        if my_map[i][j] == 1:\n",
    "            my_map_layer.append(None)\n",
    "        elif my_map[i][j] == 0:\n",
    "            goal = PoseStamped()\n",
    "            goal.header.frame_id = 'map'\n",
    "            goal.header.stamp = nav.get_clock().now().to_msg()\n",
    "            goal.pose.position.x = cor_x\n",
    "            goal.pose.position.y = cor_y\n",
    "            goal.pose.position.z = 0.006378173828125\n",
    "            goal.pose.orientation.x = 0.0\n",
    "            goal.pose.orientation.y = 0.0\n",
    "            goal.pose.orientation.z = 0.0\n",
    "            goal.pose.orientation.w = 1.0\n",
    "            my_map_layer.append(goal)\n",
    "\n",
    "    my_map_coordinate.append(my_map_layer)\n",
    "    my_map_layer = []"
   ]
  },
  {
   "cell_type": "code",
   "execution_count": 12,
   "id": "5aa0f490",
   "metadata": {},
   "outputs": [
    {
     "name": "stdout",
     "output_type": "stream",
     "text": [
      "맵입니다.\n",
      "[1, 0, 0]\n",
      "[0, 1, 0]\n",
      "[0, 0, 0]\n",
      "[1, 0, 1]\n",
      "[0, 0, 0]\n",
      "[1, 1, 0]\n",
      "[0, 0, 0]\n",
      "[1, 0, 1]\n",
      "[0, 0, 0]\n",
      "[0, 1, 0]\n",
      "[0, 0, 0]\n",
      "[0, 1, 0]\n",
      "\n",
      "경로 생성 맵입니다. 숫자 2는 경로입니다.\n",
      "[1, 2, 2]\n",
      "[0, 1, 2]\n",
      "[0, 2, 2]\n",
      "[1, 0, 1]\n",
      "[0, 0, 0]\n",
      "[1, 1, 0]\n",
      "[0, 0, 0]\n",
      "[1, 0, 1]\n",
      "[0, 0, 0]\n",
      "[0, 1, 0]\n",
      "[0, 0, 0]\n",
      "[0, 1, 0]\n"
     ]
    }
   ],
   "source": [
    "print(\"맵입니다.\")\n",
    "for i in my_map:\n",
    "    print(i)\n",
    "print()\n",
    "\n",
    "temp_map = my_map\n",
    "make_route = Astar()\n",
    "start = (0, 1)\n",
    "end = (2,1 )\n",
    "result, path = make_route.run(temp_map , start, end)\n",
    "\n",
    "print(\"경로 생성 맵입니다. 숫자 2는 경로입니다.\")\n",
    "for i in result:\n",
    "    print(i)\n"
   ]
  },
  {
   "cell_type": "code",
   "execution_count": 13,
   "id": "43410282",
   "metadata": {},
   "outputs": [
    {
     "name": "stdout",
     "output_type": "stream",
     "text": [
      "[(0, 1), (0, 2), (1, 2), (2, 2), (2, 1)]\n"
     ]
    }
   ],
   "source": [
    "print(path)"
   ]
  },
  {
   "cell_type": "code",
   "execution_count": 14,
   "id": "db04842c",
   "metadata": {},
   "outputs": [],
   "source": [
    " def go_my_robot(my_map_coordinate, start, end):\n",
    "    my_map, cell_height, cell_width = image_Grid(12, 3, map_img)\n",
    "\n",
    "    make_route = Astar()\n",
    "    result, path = make_route.run(my_map , start, end)\n",
    "\n",
    "    print(\"경로 생성 맵입니다. 숫자 2는 경로입니다.\")\n",
    "    for i in result:\n",
    "        print(i)\n",
    "        \n",
    "    if path == None:\n",
    "        print(\"이동할 수 없는 지점으로 이동을 명령하고 있습니다.\")\n",
    "        return\n",
    "    else:\n",
    "        path_0 = path[0]\n",
    "        path = path[1:]\n",
    "\n",
    "    for route in path:\n",
    "        print(\"명령을 이수합니다.\" + str(route) + \"좌표로 이동합니다.\" )\n",
    "        \n",
    "        #북쪽\n",
    "        if route[1] - path_0[1] == 1:\n",
    "            my_map_coordinate[route[0]][route[1]].pose.orientation.x = 0.0\n",
    "            my_map_coordinate[route[0]][route[1]].pose.orientation.y = 0.0\n",
    "            my_map_coordinate[route[0]][route[1]].pose.orientation.z = 0.0\n",
    "            my_map_coordinate[route[0]][route[1]].pose.orientation.w = 1.0\n",
    "        \n",
    "        #남쪽\n",
    "        elif route[1] - path_0[1] == -1:\n",
    "            my_map_coordinate[route[0]][route[1]].pose.orientation.x = 0.0\n",
    "            my_map_coordinate[route[0]][route[1]].pose.orientation.y = 0.0\n",
    "            my_map_coordinate[route[0]][route[1]].pose.orientation.z = -1.0\n",
    "            my_map_coordinate[route[0]][route[1]].pose.orientation.w = 0.0\n",
    "        \n",
    "        # 서쪽\n",
    "        elif route[0] - path_0[0] == -1:\n",
    "            my_map_coordinate[route[0]][route[1]].pose.orientation.x = 0.0\n",
    "            my_map_coordinate[route[0]][route[1]].pose.orientation.y = 0.0\n",
    "            my_map_coordinate[route[0]][route[1]].pose.orientation.z = 0.7\n",
    "            my_map_coordinate[route[0]][route[1]].pose.orientation.w = 0.7\n",
    "            \n",
    "        # 동쪽\n",
    "        elif route[0] - path_0[0] == 1:\n",
    "            my_map_coordinate[route[0]][route[1]].pose.orientation.x = 0.0\n",
    "            my_map_coordinate[route[0]][route[1]].pose.orientation.y = 0.0\n",
    "            my_map_coordinate[route[0]][route[1]].pose.orientation.z = -0.7\n",
    "            my_map_coordinate[route[0]][route[1]].pose.orientation.w = 0.7\n",
    "        nav.goToPose(my_map_coordinate[route[0]][route[1]])\n",
    "\n",
    "        i=0\n",
    "        while not nav.isTaskComplete():\n",
    "            i = i+1\n",
    "            feedback = nav.getFeedback()\n",
    "            if feedback and i % 5 == 0:\n",
    "                print(\"Distance remaining : \" + str(feedback.distance_remaining) + \" m\")\n",
    "                if feedback.distance_remaining > 0.1:\n",
    "                    pass\n",
    "                else:\n",
    "                    print(\"Distance remaining : \" + str(feedback.distance_remaining) + \" m\")\n",
    "                    nav.cancelTask()\n",
    "                    print(\"명령을 이수했습니다.\")\n",
    "\n",
    "\n",
    "        print(str(route) + \"좌표로 이동했습니다.\" )\n",
    "        print()\n",
    "        path_0 = route\n",
    "        \n",
    "                        #nav.cancelTask()\n",
    "            \n",
    "        #if Duration.from_msg(feedback.navigation_time) > Duration(seconds = 10.0):\n",
    "            #nav.cancelTask()"
   ]
  },
  {
   "cell_type": "code",
   "execution_count": 15,
   "id": "65193b16",
   "metadata": {},
   "outputs": [
    {
     "name": "stderr",
     "output_type": "stream",
     "text": [
      "[INFO] [1678971033.163372424] [basic_navigator]: Nav2 is ready for use!\n"
     ]
    }
   ],
   "source": [
    "nav.waitUntilNav2Active()"
   ]
  },
  {
   "cell_type": "code",
   "execution_count": 16,
   "id": "a3b124ed",
   "metadata": {
    "scrolled": true
   },
   "outputs": [
    {
     "name": "stdout",
     "output_type": "stream",
     "text": [
      "경로 생성 맵입니다. 숫자 2는 경로입니다.\n",
      "[1, 2, 2]\n",
      "[0, 1, 2]\n",
      "[0, 2, 2]\n",
      "[1, 2, 1]\n",
      "[0, 2, 2]\n",
      "[1, 1, 2]\n",
      "[0, 2, 2]\n",
      "[1, 2, 1]\n",
      "[0, 2, 2]\n",
      "[0, 1, 2]\n",
      "[0, 0, 2]\n",
      "[0, 1, 2]\n",
      "명령을 이수합니다.(0, 2)좌표로 이동합니다.\n"
     ]
    },
    {
     "name": "stderr",
     "output_type": "stream",
     "text": [
      "[INFO] [1678971035.167734345] [basic_navigator]: Navigating to goal: 0.65 0.0...\n"
     ]
    },
    {
     "name": "stdout",
     "output_type": "stream",
     "text": [
      "Distance remaining : 0.6000000238418579 m\n",
      "Distance remaining : 0.6000000238418579 m\n",
      "Distance remaining : 0.550000011920929 m\n",
      "Distance remaining : 0.4000000059604645 m\n",
      "(0, 2)좌표로 이동했습니다.\n",
      "\n",
      "명령을 이수합니다.(1, 2)좌표로 이동합니다.\n"
     ]
    },
    {
     "name": "stderr",
     "output_type": "stream",
     "text": [
      "[INFO] [1678971037.681170799] [basic_navigator]: Navigating to goal: 0.65 -0.6...\n"
     ]
    },
    {
     "name": "stdout",
     "output_type": "stream",
     "text": [
      "Distance remaining : 0.6378617286682129 m\n",
      "Distance remaining : 0.6378617286682129 m\n",
      "Distance remaining : 0.5874246954917908 m\n",
      "Distance remaining : 0.5037410855293274 m\n",
      "Distance remaining : 0.4037269055843353 m\n",
      "Distance remaining : 0.25 m\n",
      "(1, 2)좌표로 이동했습니다.\n",
      "\n",
      "명령을 이수합니다.(2, 2)좌표로 이동합니다.\n"
     ]
    },
    {
     "name": "stderr",
     "output_type": "stream",
     "text": [
      "[INFO] [1678971040.774103383] [basic_navigator]: Navigating to goal: 0.65 -1.2...\n"
     ]
    },
    {
     "name": "stdout",
     "output_type": "stream",
     "text": [
      "Distance remaining : 0.800000011920929 m\n",
      "Distance remaining : 0.75 m\n",
      "Distance remaining : 0.75 m\n",
      "Distance remaining : 0.699999988079071 m\n",
      "Distance remaining : 0.45000001788139343 m\n",
      "Distance remaining : 0.3499999940395355 m\n",
      "Distance remaining : 0.25 m\n",
      "(2, 2)좌표로 이동했습니다.\n",
      "\n",
      "명령을 이수합니다.(2, 1)좌표로 이동합니다.\n"
     ]
    },
    {
     "name": "stderr",
     "output_type": "stream",
     "text": [
      "[INFO] [1678971044.328592387] [basic_navigator]: Navigating to goal: 0.0 -1.2...\n"
     ]
    },
    {
     "name": "stdout",
     "output_type": "stream",
     "text": [
      "Distance remaining : 0.6378617286682129 m\n",
      "Distance remaining : 0.6378617286682129 m\n",
      "Distance remaining : 0.6378617286682129 m\n",
      "Distance remaining : 0.6378617286682129 m\n",
      "Distance remaining : 0.6378617286682129 m\n",
      "Distance remaining : 0.30000001192092896 m\n",
      "(2, 1)좌표로 이동했습니다.\n",
      "\n",
      "명령을 이수합니다.(3, 1)좌표로 이동합니다.\n"
     ]
    },
    {
     "name": "stderr",
     "output_type": "stream",
     "text": [
      "[INFO] [1678971047.796296420] [basic_navigator]: Navigating to goal: 0.0 -1.7999999999999998...\n"
     ]
    },
    {
     "name": "stdout",
     "output_type": "stream",
     "text": [
      "Distance remaining : 0.6378617286682129 m\n",
      "Distance remaining : 0.6378617286682129 m\n",
      "Distance remaining : 0.6378617286682129 m\n",
      "Distance remaining : 0.6378617286682129 m\n",
      "Distance remaining : 0.5121371150016785 m\n",
      "Distance remaining : 0.4207106828689575 m\n",
      "Distance remaining : 0.37071067094802856 m\n",
      "Distance remaining : 0.25 m\n",
      "Distance remaining : 0.20000000298023224 m\n",
      "(3, 1)좌표로 이동했습니다.\n",
      "\n",
      "명령을 이수합니다.(4, 1)좌표로 이동합니다.\n"
     ]
    },
    {
     "name": "stderr",
     "output_type": "stream",
     "text": [
      "[INFO] [1678971052.669227855] [basic_navigator]: Navigating to goal: 0.0 -2.4...\n"
     ]
    },
    {
     "name": "stdout",
     "output_type": "stream",
     "text": [
      "Distance remaining : 0.800000011920929 m\n",
      "Distance remaining : 0.75 m\n",
      "Distance remaining : 0.699999988079071 m\n",
      "Distance remaining : 0.699999988079071 m\n",
      "Distance remaining : 0.699999988079071 m\n",
      "Distance remaining : 0.3499999940395355 m\n",
      "(4, 1)좌표로 이동했습니다.\n",
      "\n",
      "명령을 이수합니다.(4, 2)좌표로 이동합니다.\n"
     ]
    },
    {
     "name": "stderr",
     "output_type": "stream",
     "text": [
      "[INFO] [1678971056.076440763] [basic_navigator]: Navigating to goal: 0.65 -2.4...\n"
     ]
    },
    {
     "name": "stdout",
     "output_type": "stream",
     "text": [
      "Distance remaining : 0.7034343481063843 m\n",
      "Distance remaining : 0.7034343481063843 m\n",
      "Distance remaining : 0.7034343481063843 m\n",
      "Distance remaining : 0.6121441125869751 m\n",
      "Distance remaining : 0.5121171474456787 m\n",
      "Distance remaining : 0.4000000059604645 m\n",
      "Distance remaining : 0.25 m\n",
      "Distance remaining : 0.22071067988872528 m\n",
      "Distance remaining : 0.22071067988872528 m\n",
      "Distance remaining : 0.22071067988872528 m\n",
      "Distance remaining : 0.22071067988872528 m\n",
      "(4, 2)좌표로 이동했습니다.\n",
      "\n",
      "명령을 이수합니다.(5, 2)좌표로 이동합니다.\n"
     ]
    },
    {
     "name": "stderr",
     "output_type": "stream",
     "text": [
      "[INFO] [1678971062.028720181] [basic_navigator]: Navigating to goal: 0.65 -3.0...\n"
     ]
    },
    {
     "name": "stdout",
     "output_type": "stream",
     "text": [
      "Distance remaining : 0.6853148341178894 m\n",
      "Distance remaining : 0.6350642442703247 m\n",
      "Distance remaining : 0.6350642442703247 m\n",
      "Distance remaining : 0.5621605515480042 m\n",
      "Distance remaining : 0.46209216117858887 m\n",
      "Distance remaining : 0.4207106828689575 m\n",
      "(5, 2)좌표로 이동했습니다.\n",
      "\n",
      "명령을 이수합니다.(6, 2)좌표로 이동합니다.\n"
     ]
    },
    {
     "name": "stderr",
     "output_type": "stream",
     "text": [
      "[INFO] [1678971065.433674803] [basic_navigator]: Navigating to goal: 0.65 -3.6...\n"
     ]
    },
    {
     "name": "stdout",
     "output_type": "stream",
     "text": [
      "Distance remaining : 0.8034698367118835 m\n",
      "Distance remaining : 0.8034698367118835 m\n",
      "Distance remaining : 0.8034698367118835 m\n",
      "Distance remaining : 0.7534698247909546 m\n",
      "Distance remaining : 0.7534698247909546 m\n",
      "Distance remaining : 0.7534698247909546 m\n",
      "Distance remaining : 0.5034703612327576 m\n",
      "Distance remaining : 0.45346489548683167 m\n",
      "Distance remaining : 0.4207106828689575 m\n",
      "(6, 2)좌표로 이동했습니다.\n",
      "\n",
      "명령을 이수합니다.(6, 1)좌표로 이동합니다.\n"
     ]
    },
    {
     "name": "stderr",
     "output_type": "stream",
     "text": [
      "[INFO] [1678971070.232200957] [basic_navigator]: Navigating to goal: 0.0 -3.6...\n"
     ]
    },
    {
     "name": "stdout",
     "output_type": "stream",
     "text": [
      "Distance remaining : 0.6378617286682129 m\n",
      "Distance remaining : 0.6378617286682129 m\n",
      "Distance remaining : 0.6378617286682129 m\n",
      "Distance remaining : 0.6121761798858643 m\n",
      "Distance remaining : 0.5621605515480042 m\n",
      "Distance remaining : 0.5621605515480042 m\n",
      "Distance remaining : 0.4707106947898865 m\n",
      "Distance remaining : 0.4707106947898865 m\n",
      "Distance remaining : 0.17071068286895752 m\n",
      "Distance remaining : 0.19142135977745056 m\n",
      "Distance remaining : 0.19142135977745056 m\n",
      "Distance remaining : 0.19142135977745056 m\n",
      "Distance remaining : 0.19142135977745056 m\n",
      "Distance remaining : 0.19142135977745056 m\n",
      "Distance remaining : 0.19142135977745056 m\n",
      "Distance remaining : 0.19142135977745056 m\n",
      "Distance remaining : 0.19142135977745056 m\n",
      "Distance remaining : 0.19142135977745056 m\n",
      "Distance remaining : 0.19142135977745056 m\n",
      "Distance remaining : 0.19142135977745056 m\n",
      "Distance remaining : 0.19142135977745056 m\n",
      "Distance remaining : 0.19142135977745056 m\n",
      "Distance remaining : 0.19142135977745056 m\n",
      "Distance remaining : 0.19142135977745056 m\n",
      "Distance remaining : 0.19142135977745056 m\n",
      "Distance remaining : 0.19142135977745056 m\n",
      "Distance remaining : 0.19142135977745056 m\n",
      "Distance remaining : 0.19142135977745056 m\n",
      "(6, 1)좌표로 이동했습니다.\n",
      "\n",
      "명령을 이수합니다.(7, 1)좌표로 이동합니다.\n"
     ]
    },
    {
     "name": "stderr",
     "output_type": "stream",
     "text": [
      "[INFO] [1678971084.816756629] [basic_navigator]: Navigating to goal: 0.0 -4.2...\n"
     ]
    },
    {
     "name": "stdout",
     "output_type": "stream",
     "text": [
      "Distance remaining : 0.7222282886505127 m\n",
      "Distance remaining : 0.7222282886505127 m\n",
      "Distance remaining : 0.7222282886505127 m\n",
      "Distance remaining : 0.7222282886505127 m\n",
      "Distance remaining : 0.7222282886505127 m\n",
      "Distance remaining : 0.45000001788139343 m\n",
      "Distance remaining : 0.3499999940395355 m\n",
      "(7, 1)좌표로 이동했습니다.\n",
      "\n",
      "명령을 이수합니다.(8, 1)좌표로 이동합니다.\n"
     ]
    },
    {
     "name": "stderr",
     "output_type": "stream",
     "text": [
      "[INFO] [1678971088.799529220] [basic_navigator]: Navigating to goal: 0.0 -4.8...\n"
     ]
    },
    {
     "name": "stdout",
     "output_type": "stream",
     "text": [
      "Distance remaining : 0.800000011920929 m\n",
      "Distance remaining : 0.699999988079071 m\n",
      "Distance remaining : 0.699999988079071 m\n",
      "Distance remaining : 0.6500000357627869 m\n",
      "Distance remaining : 0.550000011920929 m\n",
      "Distance remaining : 0.45000001788139343 m\n",
      "Distance remaining : 0.4000000059604645 m\n",
      "(8, 1)좌표로 이동했습니다.\n",
      "\n",
      "명령을 이수합니다.(8, 2)좌표로 이동합니다.\n"
     ]
    },
    {
     "name": "stderr",
     "output_type": "stream",
     "text": [
      "[INFO] [1678971092.673858907] [basic_navigator]: Navigating to goal: 0.65 -4.8...\n"
     ]
    },
    {
     "name": "stdout",
     "output_type": "stream",
     "text": [
      "Distance remaining : 0.6853148341178894 m\n",
      "Distance remaining : 0.6853148341178894 m\n",
      "Distance remaining : 0.6853148341178894 m\n",
      "Distance remaining : 0.6726038455963135 m\n",
      "Distance remaining : 0.5724849104881287 m\n",
      "Distance remaining : 0.4207106828689575 m\n",
      "Distance remaining : 0.37071067094802856 m\n",
      "(8, 2)좌표로 이동했습니다.\n",
      "\n",
      "명령을 이수합니다.(9, 2)좌표로 이동합니다.\n"
     ]
    },
    {
     "name": "stderr",
     "output_type": "stream",
     "text": [
      "[INFO] [1678971096.318552014] [basic_navigator]: Navigating to goal: 0.65 -5.3999999999999995...\n"
     ]
    },
    {
     "name": "stdout",
     "output_type": "stream",
     "text": [
      "Distance remaining : 0.6375159025192261 m\n",
      "Distance remaining : 0.6375159025192261 m\n",
      "Distance remaining : 0.6375159025192261 m\n",
      "Distance remaining : 0.6375159025192261 m\n",
      "Distance remaining : 0.572654664516449 m\n",
      "Distance remaining : 0.3914213478565216 m\n",
      "Distance remaining : 0.2914213538169861 m\n",
      "(9, 2)좌표로 이동했습니다.\n",
      "\n",
      "명령을 이수합니다.(10, 2)좌표로 이동합니다.\n"
     ]
    },
    {
     "name": "stderr",
     "output_type": "stream",
     "text": [
      "[INFO] [1678971100.113895753] [basic_navigator]: Navigating to goal: 0.65 -5.999999999999999...\n"
     ]
    },
    {
     "name": "stdout",
     "output_type": "stream",
     "text": [
      "Distance remaining : 0.8034698367118835 m\n",
      "Distance remaining : 0.7534698247909546 m\n",
      "Distance remaining : 0.6037363409996033 m\n",
      "Distance remaining : 0.6037363409996033 m\n",
      "Distance remaining : 0.5537357926368713 m\n",
      "Distance remaining : 0.4537311792373657 m\n",
      "Distance remaining : 0.37071067094802856 m\n",
      "(10, 2)좌표로 이동했습니다.\n",
      "\n",
      "명령을 이수합니다.(11, 2)좌표로 이동합니다.\n"
     ]
    },
    {
     "name": "stderr",
     "output_type": "stream",
     "text": [
      "[INFO] [1678971104.144931516] [basic_navigator]: Navigating to goal: 0.65 -6.599999999999999...\n"
     ]
    },
    {
     "name": "stdout",
     "output_type": "stream",
     "text": [
      "Distance remaining : 0.7537357211112976 m\n",
      "Distance remaining : 0.7537357211112976 m\n",
      "Distance remaining : 0.7037356495857239 m\n",
      "Distance remaining : 0.7037356495857239 m\n",
      "Distance remaining : 0.5537351965904236 m\n",
      "Distance remaining : 0.4207106828689575 m\n",
      "Distance remaining : 0.37071067094802856 m\n",
      "Distance remaining : 0.27071067690849304 m\n",
      "Distance remaining : 0.27071067690849304 m\n",
      "Distance remaining : 0.27071067690849304 m\n",
      "Distance remaining : 0.27071067690849304 m\n",
      "Distance remaining : 0.27071067690849304 m\n",
      "Distance remaining : 0.22071067988872528 m\n",
      "Distance remaining : 0.22071067988872528 m\n",
      "(11, 2)좌표로 이동했습니다.\n",
      "\n"
     ]
    }
   ],
   "source": [
    "go_my_robot(my_map_coordinate, (0,1), (11, 2))"
   ]
  },
  {
   "cell_type": "code",
   "execution_count": 15,
   "id": "4937fec1",
   "metadata": {},
   "outputs": [
    {
     "name": "stdout",
     "output_type": "stream",
     "text": [
      "명령을 이수합니다.(1, 1)좌표로 이동합니다.\n"
     ]
    },
    {
     "name": "stderr",
     "output_type": "stream",
     "text": [
      "[INFO] [1678941971.843662073] [basic_navigator]: Navigating to goal: 1.1 0.0...\n"
     ]
    },
    {
     "name": "stdout",
     "output_type": "stream",
     "text": [
      "Distance remaining : 1.4021315574645996 m\n",
      "Distance remaining : 1.4021315574645996 m\n",
      "Distance remaining : 1.4021315574645996 m\n",
      "Distance remaining : 1.4021315574645996 m\n",
      "Distance remaining : 1.3314892053604126 m\n",
      "Distance remaining : 1.190299153327942 m\n",
      "Distance remaining : 1.0460014343261719 m\n",
      "Distance remaining : 0.9862084984779358 m\n",
      "Distance remaining : 0.8222092986106873 m\n",
      "Distance remaining : 0.7033778429031372 m\n",
      "Distance remaining : 0.5742974877357483 m\n",
      "Distance remaining : 0.4568812847137451 m\n",
      "Distance remaining : 0.3621320426464081 m\n",
      "Distance remaining : 0.24142135679721832 m\n",
      "Distance remaining : 0.19142135977745056 m\n",
      "Distance remaining : 0.19142135977745056 m\n",
      "Distance remaining : 0.19142135977745056 m\n",
      "Distance remaining : 0.19142135977745056 m\n",
      "Distance remaining : 0.19142135977745056 m\n",
      "Distance remaining : 0.19142135977745056 m\n",
      "Distance remaining : 0.24142135679721832 m\n",
      "Distance remaining : 0.24142135679721832 m\n",
      "(1, 1)좌표로 이동했습니다.\n",
      "\n",
      "명령을 이수합니다.(1, 2)좌표로 이동합니다.\n"
     ]
    },
    {
     "name": "stderr",
     "output_type": "stream",
     "text": [
      "[INFO] [1678941983.058964248] [basic_navigator]: Navigating to goal: 2.2 0.0...\n"
     ]
    },
    {
     "name": "stdout",
     "output_type": "stream",
     "text": [
      "Distance remaining : 0.8617819547653198 m\n",
      "Distance remaining : 0.7117815017700195 m\n",
      "Distance remaining : 0.6117828488349915 m\n",
      "Distance remaining : 0.4617120623588562 m\n",
      "Distance remaining : 0.3914213478565216 m\n",
      "Distance remaining : 0.24142135679721832 m\n",
      "(1, 2)좌표로 이동했습니다.\n",
      "\n",
      "명령을 이수합니다.(0, 2)좌표로 이동합니다.\n"
     ]
    },
    {
     "name": "stderr",
     "output_type": "stream",
     "text": [
      "[INFO] [1678941986.171355237] [basic_navigator]: Navigating to goal: 2.2 1.1...\n"
     ]
    },
    {
     "name": "stdout",
     "output_type": "stream",
     "text": [
      "Distance remaining : 1.0830092430114746 m\n",
      "Distance remaining : 1.0830092430114746 m\n",
      "Distance remaining : 0.9611887335777283 m\n",
      "Distance remaining : 0.8611887097358704 m\n",
      "Distance remaining : 0.75 m\n",
      "Distance remaining : 0.6500000357627869 m\n",
      "Distance remaining : 0.5030601620674133 m\n",
      "Distance remaining : 0.35297691822052 m\n",
      "Distance remaining : 0.25 m\n",
      "Distance remaining : 0.20000000298023224 m\n",
      "Distance remaining : 0.20000000298023224 m\n",
      "Distance remaining : 0.20000000298023224 m\n",
      "Distance remaining : 0.20000000298023224 m\n",
      "Distance remaining : 0.20000000298023224 m\n",
      "(0, 2)좌표로 이동했습니다.\n",
      "\n"
     ]
    }
   ],
   "source": [
    "\n",
    "\n"
   ]
  },
  {
   "cell_type": "code",
   "execution_count": null,
   "id": "7af08c6e",
   "metadata": {},
   "outputs": [],
   "source": []
  }
 ],
 "metadata": {
  "kernelspec": {
   "display_name": "Python 3 (ipykernel)",
   "language": "python",
   "name": "python3"
  },
  "language_info": {
   "codemirror_mode": {
    "name": "ipython",
    "version": 3
   },
   "file_extension": ".py",
   "mimetype": "text/x-python",
   "name": "python",
   "nbconvert_exporter": "python",
   "pygments_lexer": "ipython3",
   "version": "3.10.6"
  }
 },
 "nbformat": 4,
 "nbformat_minor": 5
}
